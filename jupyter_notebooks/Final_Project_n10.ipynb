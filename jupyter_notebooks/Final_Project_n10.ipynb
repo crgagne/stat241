{
 "cells": [
  {
   "cell_type": "markdown",
   "metadata": {},
   "source": [
    "# Plan\n",
    "\n",
    "## fMRI data extraction portion\n",
    "\n",
    "1. get gray matter. \n",
    "2. normalize data. \n",
    "3. grab stable block data. \n",
    "3. estimate variance roughly (as if it was from normal). \n",
    "4. given image, get coordinates and transform into nodes/edges\n",
    "5. run prior simulation (save movie?). See if beta=1 still reasonable given 3D? E.g. looks like brain data. \n",
    "6. K-means\n",
    "6. MEMC-HMRF \n",
    "\n",
    "\n",
    "['n8' 'n10' 'n13' 'n14' 'n20' 'n21' 'n22' 'n23' 'n24' 'n25' 'n28' 'n32'\n",
    " 'n33' 'n34' 'n35' 'n41' 'n42']"
   ]
  },
  {
   "cell_type": "markdown",
   "metadata": {},
   "source": [
    "# Imports"
   ]
  },
  {
   "cell_type": "code",
   "execution_count": 1,
   "metadata": {
    "collapsed": true
   },
   "outputs": [],
   "source": [
    "import nibabel as nib\n",
    "import nipy as nipy\n",
    "import os\n",
    "import glob\n",
    "import numpy as np\n",
    "import nilearn as nil\n",
    "\n",
    "from nilearn.input_data import NiftiMasker\n",
    "import scipy\n",
    "import pickle\n",
    "from scipy import stats\n",
    "from sklearn import linear_model\n",
    "import re\n",
    "import pandas as pd\n",
    "import os\n",
    "from nipy.modalities.fmri.utils import events, Symbol, lambdify_t\n",
    "from nipy.modalities.fmri.hrf import glover\n",
    "import time\n",
    "import matplotlib.pyplot as plt\n",
    "import matplotlib.gridspec as gridspec\n",
    "from nilearn import image\n",
    "import copy\n",
    "from matplotlib.backends.backend_pdf import PdfPages\n",
    "import scipy.linalg as spl\n",
    "from nipy.modalities.fmri.hemodynamic_models import compute_regressor, _orthogonalize\n",
    "from nipy.modalities.fmri.design_matrix import _make_drift\n",
    "\n",
    "from nilearn.image.image import mean_img\n",
    "### Show results ##############################################################\n",
    "from nilearn.plotting import plot_stat_map\n",
    "from nilearn.image import index_img\n",
    "\n",
    "from nitime.analysis import SpectralAnalyzer, FilterAnalyzer\n",
    "from nitime.timeseries import TimeSeries\n",
    "import h5py\n",
    "\n",
    "import nilearn.plotting.img_plotting\n",
    "import nilearn.plotting.displays\n",
    "reload(nilearn.plotting.displays)\n",
    "from nilearn.plotting.img_plotting import plot_epi, plot_roi,plot_stat_map\n",
    "%matplotlib inline\n",
    "\n",
    "import networkx as nx"
   ]
  },
  {
   "cell_type": "code",
   "execution_count": null,
   "metadata": {
    "collapsed": true
   },
   "outputs": [],
   "source": [
    "def plot_img_4_rows(img,threshold=0,title=None,vmax=None):\n",
    "\n",
    "    slices = np.linspace(-44,55,32)\n",
    "\n",
    "    f = plt.figure(figsize=(14,10))\n",
    "    gs = gridspec.GridSpec(8, 2)\n",
    "    #print('here')\n",
    "\n",
    "    ax = plt.subplot(gs[0:2, :])\n",
    "    display = plot_stat_map(img,threshold=threshold,display_mode='z', cut_coords=slices[0:8],axes=ax,title=title,vmax=vmax)\n",
    "\n",
    "    ax = plt.subplot(gs[2:4, :])\n",
    "    display = plot_stat_map(img,threshold=threshold,display_mode='z', cut_coords=slices[8:16],axes=ax,title=title,vmax=vmax)\n",
    "\n",
    "    ax = plt.subplot(gs[4:6, :])\n",
    "    display = plot_stat_map(img,threshold=threshold,display_mode='z', cut_coords=slices[16:24],axes=ax,title=title,vmax=vmax)\n",
    "\n",
    "    ax = plt.subplot(gs[6:8, :])\n",
    "    display = plot_stat_map(img,threshold=threshold,display_mode='z', cut_coords=slices[24:32],axes=ax,title=title,vmax=vmax)\n",
    "\n"
   ]
  },
  {
   "cell_type": "markdown",
   "metadata": {},
   "source": [
    "### Get data / Mask / Normalize"
   ]
  },
  {
   "cell_type": "code",
   "execution_count": 6,
   "metadata": {
    "collapsed": false
   },
   "outputs": [
    {
     "data": {
      "text/plain": [
       "NiftiMasker(detrend=True, high_pass=None, low_pass=None, mask_args=None,\n",
       "      mask_img=None, mask_strategy='epi', memory=Memory(cachedir=None),\n",
       "      memory_level=1, sample_mask=None, sessions=None, smoothing_fwhm=None,\n",
       "      standardize=True, t_r=None, target_affine=None, target_shape=None,\n",
       "      verbose=0)"
      ]
     },
     "execution_count": 6,
     "metadata": {},
     "output_type": "execute_result"
    }
   ],
   "source": [
    "sub = 'n10'\n",
    "analysisdir = '/home/bishop/studies/AnxLearn2/anxlearn_fmri/input_epi/'\n",
    "filename = analysisdir+sub+'/pain/preprocessed_nounwarp.feat/prefiltered_func_data_smooth.nii.gz'\n",
    "filenames=glob.glob(filename)\n",
    "nifti_masker = NiftiMasker( mask_strategy='epi',standardize=True,detrend=True)\n",
    "nifti_masker.fit(filenames[0])"
   ]
  },
  {
   "cell_type": "code",
   "execution_count": 7,
   "metadata": {
    "collapsed": true
   },
   "outputs": [],
   "source": [
    "fmri_masked_flat = nifti_masker.transform(filenames[0])"
   ]
  },
  {
   "cell_type": "markdown",
   "metadata": {},
   "source": [
    "### Take A look at Data "
   ]
  },
  {
   "cell_type": "code",
   "execution_count": 8,
   "metadata": {
    "collapsed": false
   },
   "outputs": [
    {
     "data": {
      "text/plain": [
       "(1086, 61398)"
      ]
     },
     "execution_count": 8,
     "metadata": {},
     "output_type": "execute_result"
    }
   ],
   "source": [
    "fmri_masked_flat.shape"
   ]
  },
  {
   "cell_type": "code",
   "execution_count": 9,
   "metadata": {
    "collapsed": false
   },
   "outputs": [
    {
     "data": {
      "text/plain": [
       "[<matplotlib.lines.Line2D at 0x7fa3f7b92e10>,\n",
       " <matplotlib.lines.Line2D at 0x7fa3f7ba70d0>,\n",
       " <matplotlib.lines.Line2D at 0x7fa3f7ba7310>,\n",
       " <matplotlib.lines.Line2D at 0x7fa3f7ba74d0>,\n",
       " <matplotlib.lines.Line2D at 0x7fa3f7ba7690>,\n",
       " <matplotlib.lines.Line2D at 0x7fa3f7ba7850>,\n",
       " <matplotlib.lines.Line2D at 0x7fa3f7ba7a10>,\n",
       " <matplotlib.lines.Line2D at 0x7fa3f7b52c50>,\n",
       " <matplotlib.lines.Line2D at 0x7fa3f7ba7d90>,\n",
       " <matplotlib.lines.Line2D at 0x7fa3f7ba7f50>]"
      ]
     },
     "execution_count": 9,
     "metadata": {},
     "output_type": "execute_result"
    },
    {
     "data": {
      "image/png": "[encoded data removed]",
      "text/plain": [
       "<matplotlib.figure.Figure at 0x7fa3f8084a10>"
      ]
     },
     "metadata": {},
     "output_type": "display_data"
    }
   ],
   "source": [
    "plt.plot(fmri_masked_flat[:,np.random.randint(fmri_masked_flat.shape[1],size=10)])"
   ]
  },
  {
   "cell_type": "code",
   "execution_count": 58,
   "metadata": {
    "collapsed": true
   },
   "outputs": [],
   "source": [
    "#fmri_masked_image2 = nifti_masker.inverse_transform(fmri_masked_flat*2)"
   ]
  },
  {
   "cell_type": "code",
   "execution_count": 61,
   "metadata": {
    "collapsed": true
   },
   "outputs": [],
   "source": [
    "#fmri_masked_image2.to_filename('test.nii')"
   ]
  },
  {
   "cell_type": "markdown",
   "metadata": {},
   "source": [
    "### Index Image"
   ]
  },
  {
   "cell_type": "code",
   "execution_count": 10,
   "metadata": {
    "collapsed": false
   },
   "outputs": [],
   "source": [
    "index_image = nifti_masker.inverse_transform(np.arange(fmri_masked_flat.shape[1]))"
   ]
  },
  {
   "cell_type": "code",
   "execution_count": 11,
   "metadata": {
    "collapsed": false
   },
   "outputs": [
    {
     "data": {
      "text/plain": [
       "(98, 98, 31)"
      ]
     },
     "execution_count": 11,
     "metadata": {},
     "output_type": "execute_result"
    }
   ],
   "source": [
    "index_image_data= index_image.get_data()\n",
    "index_image_data.shape"
   ]
  },
  {
   "cell_type": "code",
   "execution_count": 12,
   "metadata": {
    "collapsed": false
   },
   "outputs": [
    {
     "data": {
      "text/plain": [
       "(array([22]), array([42]), array([12]))"
      ]
     },
     "execution_count": 12,
     "metadata": {},
     "output_type": "execute_result"
    }
   ],
   "source": [
    "np.where(index_image_data==100)"
   ]
  },
  {
   "cell_type": "code",
   "execution_count": 13,
   "metadata": {
    "collapsed": false
   },
   "outputs": [
    {
     "data": {
      "text/plain": [
       "<matplotlib.image.AxesImage at 0x7fa3f59f7ad0>"
      ]
     },
     "execution_count": 13,
     "metadata": {},
     "output_type": "execute_result"
    },
    {
     "data": {
      "image/png": "[encoded data removed]",
      "text/plain": [
       "<matplotlib.figure.Figure at 0x7fa3f5abe710>"
      ]
     },
     "metadata": {},
     "output_type": "display_data"
    }
   ],
   "source": [
    "plt.imshow(index_image_data[:,:,20],origin='lower') # cmap='gray'"
   ]
  },
  {
   "cell_type": "markdown",
   "metadata": {},
   "source": [
    "### Graph "
   ]
  },
  {
   "cell_type": "code",
   "execution_count": 57,
   "metadata": {
    "collapsed": false
   },
   "outputs": [],
   "source": [
    "s = np.shape(index_image_data)\n",
    "G = nx.grid_graph(dim=[s[0],s[1],s[2]])"
   ]
  },
  {
   "cell_type": "markdown",
   "metadata": {},
   "source": [
    "### Prune Graph"
   ]
  },
  {
   "cell_type": "code",
   "execution_count": 60,
   "metadata": {
    "collapsed": true
   },
   "outputs": [],
   "source": [
    "for d1 in range(s[0]):\n",
    "    for d2 in range(s[1]):\n",
    "        for d3 in range(s[2]):\n",
    "            if index_image_data[d1,d2,d3]==0:\n",
    "                G.remove_node((d1,d2,d3))"
   ]
  },
  {
   "cell_type": "code",
   "execution_count": 61,
   "metadata": {
    "collapsed": false
   },
   "outputs": [
    {
     "data": {
      "text/plain": [
       "{(69, 34, 14): {},\n",
       " (70, 33, 14): {},\n",
       " (70, 34, 13): {},\n",
       " (70, 34, 15): {},\n",
       " (70, 35, 14): {},\n",
       " (71, 34, 14): {}}"
      ]
     },
     "execution_count": 61,
     "metadata": {},
     "output_type": "execute_result"
    }
   ],
   "source": [
    "G.edge[(70,34,14)]"
   ]
  },
  {
   "cell_type": "code",
   "execution_count": 62,
   "metadata": {
    "collapsed": false
   },
   "outputs": [
    {
     "data": {
      "text/plain": [
       "61397"
      ]
     },
     "execution_count": 62,
     "metadata": {},
     "output_type": "execute_result"
    }
   ],
   "source": [
    "len(G.node)"
   ]
  },
  {
   "cell_type": "markdown",
   "metadata": {},
   "source": [
    "### Get Mean Image\n"
   ]
  },
  {
   "cell_type": "code",
   "execution_count": 16,
   "metadata": {
    "collapsed": true
   },
   "outputs": [],
   "source": [
    "\n",
    "mean_func_img = mean_img(filenames[0])"
   ]
  },
  {
   "cell_type": "markdown",
   "metadata": {},
   "source": [
    "### ICA"
   ]
  },
  {
   "cell_type": "code",
   "execution_count": 17,
   "metadata": {
    "collapsed": true
   },
   "outputs": [],
   "source": [
    "#from sklearn.decomposition import FastICA\n",
    "#n_components = 7\n",
    "#ica = FastICA(n_components=n_components, random_state=42)\n",
    "#components_masked = ica.fit_transform(fmri_masked_flat.T).T\n",
    "\n"
   ]
  },
  {
   "cell_type": "code",
   "execution_count": 18,
   "metadata": {
    "collapsed": false
   },
   "outputs": [
    {
     "data": {
      "text/plain": [
       "(7, 61398)"
      ]
     },
     "execution_count": 18,
     "metadata": {},
     "output_type": "execute_result"
    }
   ],
   "source": [
    "#components_masked.shape"
   ]
  },
  {
   "cell_type": "code",
   "execution_count": 22,
   "metadata": {
    "collapsed": false
   },
   "outputs": [],
   "source": [
    "#components = nifti_masker.inverse_transform(components_masked)\n",
    "\n"
   ]
  },
  {
   "cell_type": "code",
   "execution_count": 21,
   "metadata": {
    "collapsed": false
   },
   "outputs": [],
   "source": [
    "#for comp in range(7):\n",
    "#    index_img(components, comp).to_filename('ICA'+str(comp)+'.nii')"
   ]
  },
  {
   "cell_type": "code",
   "execution_count": 89,
   "metadata": {
    "collapsed": false
   },
   "outputs": [],
   "source": [
    "#plot_img_4_rows(index_img(components, 1),threshold=0.001,vmax=0.02)"
   ]
  },
  {
   "cell_type": "markdown",
   "metadata": {},
   "source": [
    "### Choose 7 Clusters"
   ]
  },
  {
   "cell_type": "code",
   "execution_count": 90,
   "metadata": {
    "collapsed": true
   },
   "outputs": [],
   "source": [
    "num_states = 7"
   ]
  },
  {
   "cell_type": "markdown",
   "metadata": {},
   "source": [
    "### K-Means"
   ]
  },
  {
   "cell_type": "code",
   "execution_count": null,
   "metadata": {
    "collapsed": true
   },
   "outputs": [],
   "source": [
    "#from sklearn.cluster import KMeans \n",
    "#kmeans = KMeans(num_states)"
   ]
  },
  {
   "cell_type": "code",
   "execution_count": 31,
   "metadata": {
    "collapsed": true
   },
   "outputs": [],
   "source": [
    "#results = kmeans.fit(fmri_masked_flat.T) #time second argument"
   ]
  },
  {
   "cell_type": "code",
   "execution_count": 32,
   "metadata": {
    "collapsed": true
   },
   "outputs": [],
   "source": [
    "#labels = results.fit_predict(fmri_masked_flat.T)\n"
   ]
  },
  {
   "cell_type": "code",
   "execution_count": 33,
   "metadata": {
    "collapsed": true
   },
   "outputs": [],
   "source": [
    "#labels_image = nifti_masker.inverse_transform(labels)\n"
   ]
  },
  {
   "cell_type": "code",
   "execution_count": 34,
   "metadata": {
    "collapsed": false
   },
   "outputs": [
    {
     "data": {
      "text/plain": [
       "(61398,)"
      ]
     },
     "execution_count": 34,
     "metadata": {},
     "output_type": "execute_result"
    }
   ],
   "source": [
    "#labels.shape\n"
   ]
  },
  {
   "cell_type": "code",
   "execution_count": 58,
   "metadata": {
    "collapsed": false
   },
   "outputs": [],
   "source": [
    "labels_image.to_filename('Kclust.nii')"
   ]
  },
  {
   "cell_type": "code",
   "execution_count": 91,
   "metadata": {
    "collapsed": false
   },
   "outputs": [],
   "source": [
    "#plot_img_4_rows(labels_image,threshold=0,vmax=10)"
   ]
  },
  {
   "cell_type": "code",
   "execution_count": 38,
   "metadata": {
    "collapsed": true
   },
   "outputs": [],
   "source": [
    "cluster_time_series = results.cluster_centers_.T"
   ]
  },
  {
   "cell_type": "code",
   "execution_count": 92,
   "metadata": {
    "collapsed": false
   },
   "outputs": [
    {
     "data": {
      "image/png": "[encoded data removed]",
      "text/plain": [
       "<matplotlib.figure.Figure at 0x7fa3f5a7be10>"
      ]
     },
     "metadata": {},
     "output_type": "display_data"
    },
    {
     "data": {
      "image/png": "[encoded data removed]",
      "text/plain": [
       "<matplotlib.figure.Figure at 0x7fa3a07a5450>"
      ]
     },
     "metadata": {},
     "output_type": "display_data"
    }
   ],
   "source": [
    "for i in range(2):\n",
    "    plt.figure()\n",
    "    plt.plot(cluster_time_series[:,i])"
   ]
  },
  {
   "cell_type": "markdown",
   "metadata": {},
   "source": [
    "### Add Data to Graph"
   ]
  },
  {
   "cell_type": "code",
   "execution_count": 65,
   "metadata": {
    "collapsed": false
   },
   "outputs": [
    {
     "data": {
      "text/plain": [
       "(1086, 61398)"
      ]
     },
     "execution_count": 65,
     "metadata": {},
     "output_type": "execute_result"
    }
   ],
   "source": [
    "fmri_masked_flat.shape"
   ]
  },
  {
   "cell_type": "code",
   "execution_count": 66,
   "metadata": {
    "collapsed": true
   },
   "outputs": [],
   "source": [
    "for node in G.nodes():\n",
    "    G.node[node]['x'] = fmri_masked_flat[:,index_image_data[node[0],node[1],node[2]]]"
   ]
  },
  {
   "cell_type": "code",
   "execution_count": 68,
   "metadata": {
    "collapsed": false
   },
   "outputs": [
    {
     "data": {
      "text/plain": [
       "[<matplotlib.lines.Line2D at 0x7fa37a0a2dd0>]"
      ]
     },
     "execution_count": 68,
     "metadata": {},
     "output_type": "execute_result"
    },
    {
     "data": {
      "image/png": "[encoded data removed]",
      "text/plain": [
       "<matplotlib.figure.Figure at 0x7fa3c1f5d550>"
      ]
     },
     "metadata": {},
     "output_type": "display_data"
    }
   ],
   "source": [
    "plt.plot(G.node[node]['x'])"
   ]
  },
  {
   "cell_type": "code",
   "execution_count": 81,
   "metadata": {
    "collapsed": true
   },
   "outputs": [],
   "source": [
    "G.graph['img_shape']= index_image_data.shape"
   ]
  },
  {
   "cell_type": "code",
   "execution_count": 93,
   "metadata": {
    "collapsed": false
   },
   "outputs": [],
   "source": [
    "G.graph['num_states'] = num_states\n"
   ]
  },
  {
   "cell_type": "code",
   "execution_count": 143,
   "metadata": {
    "collapsed": true
   },
   "outputs": [],
   "source": [
    "G.graph['tp']= fmri_masked_flat.shape[0]"
   ]
  },
  {
   "cell_type": "code",
   "execution_count": 116,
   "metadata": {
    "collapsed": true
   },
   "outputs": [],
   "source": [
    "G.graph['num_nodes'] = fmri_masked_flat.shape[1]"
   ]
  },
  {
   "cell_type": "markdown",
   "metadata": {},
   "source": [
    "### Add K-means states "
   ]
  },
  {
   "cell_type": "code",
   "execution_count": 78,
   "metadata": {
    "collapsed": false
   },
   "outputs": [
    {
     "data": {
      "text/plain": [
       "(61398,)"
      ]
     },
     "execution_count": 78,
     "metadata": {},
     "output_type": "execute_result"
    }
   ],
   "source": [
    "labels.shape"
   ]
  },
  {
   "cell_type": "code",
   "execution_count": 80,
   "metadata": {
    "collapsed": false
   },
   "outputs": [],
   "source": [
    "for node in G.nodes():\n",
    "    G.node[node]['state'] = labels[index_image_data[node[0],node[1],node[2]]]\n",
    "    G.node[node]['kstate'] = labels[index_image_data[node[0],node[1],node[2]]]\n",
    "    "
   ]
  },
  {
   "cell_type": "markdown",
   "metadata": {},
   "source": [
    "### Plot Slice of Labels\n"
   ]
  },
  {
   "cell_type": "code",
   "execution_count": 86,
   "metadata": {
    "collapsed": true
   },
   "outputs": [],
   "source": [
    "def plot_graph(G,slicee):\n",
    "    im = np.empty((G.graph['img_shape'][0],G.graph['img_shape'][1]))\n",
    "    for node in G.node:\n",
    "        if node[2]==slicee:\n",
    "            im[node[0],node[1]]=G.node[node]['state']\n",
    "\n",
    "    imm = plt.imshow(im,interpolation='None',origin='lower')\n",
    "    return(imm)\n"
   ]
  },
  {
   "cell_type": "code",
   "execution_count": 87,
   "metadata": {
    "collapsed": false
   },
   "outputs": [
    {
     "data": {
      "text/plain": [
       "<matplotlib.image.AxesImage at 0x7fa39fc1da50>"
      ]
     },
     "execution_count": 87,
     "metadata": {},
     "output_type": "execute_result"
    },
    {
     "data": {
      "image/png": "[encoded data removed]",
      "text/plain": [
       "<matplotlib.figure.Figure at 0x7fa3c1d1d390>"
      ]
     },
     "metadata": {},
     "output_type": "display_data"
    }
   ],
   "source": [
    "plot_graph(G,20)"
   ]
  },
  {
   "cell_type": "code",
   "execution_count": null,
   "metadata": {
    "collapsed": true
   },
   "outputs": [],
   "source": []
  },
  {
   "cell_type": "markdown",
   "metadata": {},
   "source": [
    "### MRF Functions\n"
   ]
  },
  {
   "cell_type": "code",
   "execution_count": 100,
   "metadata": {
    "collapsed": true
   },
   "outputs": [],
   "source": [
    "def prior_energy(G,node,z):\n",
    "    # needs state z, \n",
    "    # counts number of non-matches.. non matches increase energy \n",
    "    neighbor_voxel_matches = 0\n",
    "    for edge in G.edge[node]:\n",
    "        if z!=G.node[edge]['state']:\n",
    "            neighbor_voxel_matches+=1\n",
    "    return(neighbor_voxel_matches* G.graph['B'])\n"
   ]
  },
  {
   "cell_type": "code",
   "execution_count": 101,
   "metadata": {
    "collapsed": true
   },
   "outputs": [],
   "source": [
    "def node_conditional(G,node,prior_or_posterior):\n",
    "    energy_per_state =  np.zeros(G.graph['num_states'])\n",
    "    for s,state in enumerate(range(G.graph['num_states'])):\n",
    "        if prior_or_posterior=='posterior':\n",
    "            lik_energy=liklihood_energy(G,node,state)\n",
    "        elif prior_or_posterior=='prior':\n",
    "            lik_energy=0\n",
    "        energy_per_state[s] = np.exp(-1.0*prior_energy(G,node,state)+lik_energy)\n",
    "    return(energy_per_state/energy_per_state.sum())\n",
    "                                     "
   ]
  },
  {
   "cell_type": "code",
   "execution_count": 170,
   "metadata": {
    "collapsed": true
   },
   "outputs": [],
   "source": [
    "def liklihood_energy(G,node,z):\n",
    "    k = G.graph['tp']\n",
    "    #Sigma = np.eye(k)*G.graph['sigma_est'] # use true sigma for now \n",
    "    u = G.graph['u_est'][:,z] # 1x time points\n",
    "    x =  G.node[node]['x'] # 1 x time points\n",
    "    #lik_en = -0.5*np.log(1.0) - 0.5*np.dot(np.dot((u-x),np.eye(k)),(u-x).T) - k/2.0*np.log(2.0*np.pi)\n",
    "    lik_en = -0.5*np.log(1.0) - 0.5*np.sum((u-x)**2) - k/2.0*np.log(2.0*np.pi)\n",
    "    return(lik_en)\n"
   ]
  },
  {
   "cell_type": "code",
   "execution_count": 136,
   "metadata": {
    "collapsed": false
   },
   "outputs": [],
   "source": [
    "#### Gibbs sample from prior \n",
    "def gibbs_sample(G,num_gibbs_samples=1,prior_or_posterior='prior'):\n",
    "\n",
    "    posterior_samples = np.zeros((G.graph['num_nodes'],num_gibbs_samples))\n",
    "    for samples in range(num_gibbs_samples):\n",
    "        for n,node in enumerate(G.nodes()):\n",
    "            cond_probs = node_conditional(G,node,prior_or_posterior)\n",
    "            G.node[node]['state']=np.where(np.random.multinomial(1,cond_probs))[0][0]\n",
    "            posterior_samples[n,samples] = G.node[node]['state']\n",
    "    return(G,posterior_samples)\n"
   ]
  },
  {
   "cell_type": "markdown",
   "metadata": {},
   "source": [
    "### Set B and Sample from Potts\n",
    "\n"
   ]
  },
  {
   "cell_type": "code",
   "execution_count": 110,
   "metadata": {
    "collapsed": true
   },
   "outputs": [],
   "source": [
    "G.graph['B'] = 1.0"
   ]
  },
  {
   "cell_type": "code",
   "execution_count": 113,
   "metadata": {
    "collapsed": false
   },
   "outputs": [],
   "source": [
    "energies = np.array([])\n",
    "for node in G.nodes():\n",
    "    energies = np.append(energies,prior_energy(G,node,1))"
   ]
  },
  {
   "cell_type": "code",
   "execution_count": 114,
   "metadata": {
    "collapsed": false
   },
   "outputs": [
    {
     "data": {
      "text/plain": [
       "(array([   435.,   1331.,      0.,   2469.,      0.,   4771.,   6456.,\n",
       "             0.,  10620.,  35315.]),\n",
       " array([ 0. ,  0.6,  1.2,  1.8,  2.4,  3. ,  3.6,  4.2,  4.8,  5.4,  6. ]),\n",
       " <a list of 10 Patch objects>)"
      ]
     },
     "execution_count": 114,
     "metadata": {},
     "output_type": "execute_result"
    },
    {
     "data": {
      "image/png": "[encoded data removed]",
      "text/plain": [
       "<matplotlib.figure.Figure at 0x7fa3d5f3d110>"
      ]
     },
     "metadata": {},
     "output_type": "display_data"
    }
   ],
   "source": [
    "plt.hist(energies)"
   ]
  },
  {
   "cell_type": "code",
   "execution_count": 164,
   "metadata": {
    "collapsed": false
   },
   "outputs": [
    {
     "name": "stdout",
     "output_type": "stream",
     "text": [
      "CPU times: user 13.4 s, sys: 14 ms, total: 13.4 s\n",
      "Wall time: 13.5 s\n"
     ]
    }
   ],
   "source": [
    "%time G,posterior_samples = gibbs_sample(G,num_gibbs_samples=2,prior_or_posterior='posterior')"
   ]
  },
  {
   "cell_type": "code",
   "execution_count": 158,
   "metadata": {
    "collapsed": false
   },
   "outputs": [
    {
     "data": {
      "text/plain": [
       "<matplotlib.image.AxesImage at 0x7fa3bb5a1c90>"
      ]
     },
     "execution_count": 158,
     "metadata": {},
     "output_type": "execute_result"
    },
    {
     "data": {
      "image/png": "[encoded data removed]",
      "text/plain": [
       "<matplotlib.figure.Figure at 0x7fa3c0185550>"
      ]
     },
     "metadata": {},
     "output_type": "display_data"
    }
   ],
   "source": [
    "plot_graph(G,20)"
   ]
  },
  {
   "cell_type": "code",
   "execution_count": 127,
   "metadata": {
    "collapsed": true
   },
   "outputs": [],
   "source": [
    "nx.write_gpickle(G, \"G.gpickle\")"
   ]
  },
  {
   "cell_type": "code",
   "execution_count": 141,
   "metadata": {
    "collapsed": false
   },
   "outputs": [
    {
     "data": {
      "text/plain": [
       "6"
      ]
     },
     "execution_count": 141,
     "metadata": {},
     "output_type": "execute_result"
    }
   ],
   "source": [
    "(20*4*5)/60"
   ]
  },
  {
   "cell_type": "markdown",
   "metadata": {},
   "source": [
    "## Use K-means for u-est"
   ]
  },
  {
   "cell_type": "code",
   "execution_count": 145,
   "metadata": {
    "collapsed": false
   },
   "outputs": [
    {
     "data": {
      "text/plain": [
       "(1086, 7)"
      ]
     },
     "execution_count": 145,
     "metadata": {},
     "output_type": "execute_result"
    }
   ],
   "source": [
    "cluster_time_series.shape"
   ]
  },
  {
   "cell_type": "code",
   "execution_count": 153,
   "metadata": {
    "collapsed": false
   },
   "outputs": [
    {
     "data": {
      "text/plain": [
       "(1086, 7)"
      ]
     },
     "execution_count": 153,
     "metadata": {},
     "output_type": "execute_result"
    }
   ],
   "source": [
    "G.graph['u_est'] = cluster_time_series\n",
    "G.graph['u_est'].shape"
   ]
  },
  {
   "cell_type": "code",
   "execution_count": 99,
   "metadata": {
    "collapsed": false
   },
   "outputs": [],
   "source": [
    "G.graph['sigma_est'] = 1.0"
   ]
  },
  {
   "cell_type": "code",
   "execution_count": null,
   "metadata": {
    "collapsed": true
   },
   "outputs": [],
   "source": [
    "(30*5*4)/60"
   ]
  },
  {
   "cell_type": "markdown",
   "metadata": {},
   "source": [
    "### EM "
   ]
  },
  {
   "cell_type": "code",
   "execution_count": 171,
   "metadata": {
    "collapsed": false
   },
   "outputs": [
    {
     "name": "stdout",
     "output_type": "stream",
     "text": [
      "CPU times: user 18.1 s, sys: 4 ms, total: 18.1 s\n",
      "Wall time: 18.1 s\n"
     ]
    }
   ],
   "source": [
    "%time G,posterior_samples = gibbs_sample(G,1,prior_or_posterior='posterior')"
   ]
  },
  {
   "cell_type": "code",
   "execution_count": 172,
   "metadata": {
    "collapsed": false
   },
   "outputs": [
    {
     "name": "stdout",
     "output_type": "stream",
     "text": [
      "em: 0\n",
      "gibbs: 0\n",
      "gibbs: 1\n",
      "gibbs: 2\n",
      "gibbs: 3\n",
      "gibbs: 4\n",
      "em: 1\n",
      "gibbs: 0\n",
      "gibbs: 1\n",
      "gibbs: 2\n",
      "gibbs: 3\n",
      "gibbs: 4\n",
      "em: 2\n",
      "gibbs: 0\n",
      "gibbs: 1\n",
      "gibbs: 2\n",
      "gibbs: 3\n",
      "gibbs: 4\n"
     ]
    }
   ],
   "source": [
    "for em_step in range(3):\n",
    "    print('em: '+str(em_step))\n",
    "\n",
    "        \n",
    "    u_est_new =G.graph['u_est']\n",
    "    u_est_new_count = G.graph['u_est']*0.0+1\n",
    "    \n",
    "    for gs in range(5):\n",
    "        print('gibbs: '+str(gs))\n",
    "        G,posterior_samples = gibbs_sample(G,1,prior_or_posterior='posterior')\n",
    "    \n",
    "        for n,node in enumerate(G.node):\n",
    "            state = posterior_samples[n] # node was in this state\n",
    "            u_est_new[:,int(state)] += G.node[node]['x'] # add the x data to that time vector\n",
    "            u_est_new_count[:,int(state)] += np.ones(G.graph['tp'])\n",
    "            \n",
    "    u_est_new = u_est_new/u_est_new_count        \n",
    "    G.graph['u_est'] = u_est_new"
   ]
  },
  {
   "cell_type": "code",
   "execution_count": 173,
   "metadata": {
    "collapsed": false
   },
   "outputs": [
    {
     "data": {
      "text/plain": [
       "<matplotlib.image.AxesImage at 0x7fa3c1d12110>"
      ]
     },
     "execution_count": 173,
     "metadata": {},
     "output_type": "execute_result"
    },
    {
     "data": {
      "image/png": "[encoded data removed]",
      "text/plain": [
       "<matplotlib.figure.Figure at 0x7fa3c1d5a450>"
      ]
     },
     "metadata": {},
     "output_type": "display_data"
    }
   ],
   "source": [
    "plot_graph(G,20)"
   ]
  },
  {
   "cell_type": "markdown",
   "metadata": {},
   "source": [
    "### Save Brain"
   ]
  },
  {
   "cell_type": "code",
   "execution_count": 161,
   "metadata": {
    "collapsed": true
   },
   "outputs": [],
   "source": [
    "states = np.zeros(np.shape(labels))\n",
    "for node in G.nodes():\n",
    "    states[index_image_data[node[0],node[1],node[2]]] = G.node[node]['state'] "
   ]
  },
  {
   "cell_type": "code",
   "execution_count": 162,
   "metadata": {
    "collapsed": true
   },
   "outputs": [],
   "source": [
    "states_image = nifti_masker.inverse_transform(states)"
   ]
  },
  {
   "cell_type": "code",
   "execution_count": 163,
   "metadata": {
    "collapsed": false
   },
   "outputs": [],
   "source": [
    "states_image.to_filename('MRFclust'+sub+'.nii')"
   ]
  }
 ],
 "metadata": {
  "kernelspec": {
   "display_name": "Python 2",
   "language": "python",
   "name": "python2"
  },
  "language_info": {
   "codemirror_mode": {
    "name": "ipython",
    "version": 2
   },
   "file_extension": ".py",
   "mimetype": "text/x-python",
   "name": "python",
   "nbconvert_exporter": "python",
   "pygments_lexer": "ipython2",
   "version": "2.7.10"
  }
 },
 "nbformat": 4,
 "nbformat_minor": 0
}
