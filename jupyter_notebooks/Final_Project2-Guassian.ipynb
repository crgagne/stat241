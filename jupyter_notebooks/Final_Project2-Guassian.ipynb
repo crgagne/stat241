{
 "cells": [
  {
   "cell_type": "markdown",
   "metadata": {},
   "source": [
    "# Simulation "
   ]
  },
  {
   "cell_type": "code",
   "execution_count": 1,
   "metadata": {
    "collapsed": false
   },
   "outputs": [],
   "source": [
    "import numpy as np\n",
    "import scipy.stats\n",
    "from scipy import stats\n",
    "import matplotlib\n",
    "matplotlib.use(\"Agg\")\n",
    "import matplotlib.animation as animation\n",
    "import numpy as np\n",
    "from pylab import *\n",
    "from mpl_toolkits.mplot3d import Axes3D\n",
    "import matplotlib.pyplot as plt\n",
    "%matplotlib inline\n",
    "import networkx as nx\n",
    "from mpl_toolkits.mplot3d import Axes3D\n",
    "\n",
    "import matplotlib.cm as cmx\n",
    "import matplotlib.colors as colors\n"
   ]
  },
  {
   "cell_type": "markdown",
   "metadata": {},
   "source": [
    "## Functions"
   ]
  },
  {
   "cell_type": "markdown",
   "metadata": {},
   "source": [
    "### Functions: Algorithm"
   ]
  },
  {
   "cell_type": "code",
   "execution_count": 2,
   "metadata": {
    "collapsed": false
   },
   "outputs": [],
   "source": [
    "def prior_energy(G,node,z):\n",
    "    # needs state z, \n",
    "    # counts number of non-matches.. non matches increase energy \n",
    "    neighbor_voxel_matches = 0\n",
    "    for edge in G.edge[node]:\n",
    "        if z!=G.node[edge]['state']:\n",
    "            neighbor_voxel_matches+=1\n",
    "    return(neighbor_voxel_matches* G.graph['B'])\n",
    "\n"
   ]
  },
  {
   "cell_type": "code",
   "execution_count": 3,
   "metadata": {
    "collapsed": false
   },
   "outputs": [],
   "source": [
    "def liklihood_energy(G,node,z):\n",
    "    k = G.graph['tp']\n",
    "    Sigma = np.eye(k)*G.graph['sigma_true'] # use true sigma for now \n",
    "    u = G.graph['u_est'][:,z][np.newaxis] # 1x time points\n",
    "    x =  G.node[node]['x'] # 1 x time points\n",
    "    lik_en = -0.5*np.log(np.linalg.det(Sigma)) - 0.5*np.dot(np.dot((u-x),np.linalg.inv(Sigma)),(u-x).T) - k/2.0*np.log(2.0*np.pi)\n",
    "    return(lik_en)\n"
   ]
  },
  {
   "cell_type": "code",
   "execution_count": 4,
   "metadata": {
    "collapsed": false
   },
   "outputs": [],
   "source": [
    "def node_conditional(G,node,prior_or_posterior):\n",
    "    energy_per_state =  np.zeros(G.graph['num_states'])\n",
    "    for s,state in enumerate(range(G.graph['num_states'])):\n",
    "        if prior_or_posterior=='posterior':\n",
    "            lik_energy=liklihood_energy(G,node,state)\n",
    "        elif prior_or_posterior=='prior':\n",
    "            lik_energy=0\n",
    "        energy_per_state[s] = np.exp(-1.0*prior_energy(G,node,state)+lik_energy)\n",
    "    return(energy_per_state/energy_per_state.sum())\n",
    "                                     "
   ]
  },
  {
   "cell_type": "code",
   "execution_count": 5,
   "metadata": {
    "collapsed": true
   },
   "outputs": [],
   "source": [
    "\n",
    "#### Gibbs sample from prior \n",
    "def gibbs_sample(G,num_gibbs_samples=500,prior_or_posterior='prior'):\n",
    "    nn = G.graph['nn']\n",
    "    posterior_samples = np.zeros((nn*nn,num_gibbs_samples))\n",
    "    for samples in range(num_gibbs_samples):\n",
    "        for n,node in enumerate(G.nodes()):\n",
    "            cond_probs = node_conditional(G,node,prior_or_posterior)\n",
    "            G.node[node]['state']=np.where(np.random.multinomial(1,cond_probs))[0][0]\n",
    "            posterior_samples[n,samples] = G.node[node]['state']\n",
    "    return(G,posterior_samples)\n"
   ]
  },
  {
   "cell_type": "code",
   "execution_count": 6,
   "metadata": {
    "collapsed": true
   },
   "outputs": [],
   "source": [
    "\n",
    "#### ICM \n",
    "def ICM(G,num_gibbs_samples=40,prior_or_posterior='posterior'):\n",
    "    nn = G.graph['nn']\n",
    "    for samples in range(num_gibbs_samples):\n",
    "        for n,node in enumerate(G.nodes()):\n",
    "            cond_probs = node_conditional(G,node,prior_or_posterior)\n",
    "            G.node[node]['state_k+1']=np.argmax(cond_probs)\n",
    "        for n,node in enumerate(G.nodes()):\n",
    "            G.node[node]['state']=G.node[node]['state_k+1']\n",
    "            \n",
    "    return(G)\n"
   ]
  },
  {
   "cell_type": "markdown",
   "metadata": {},
   "source": [
    "### Functions: Algorithm (2.0) Estimating B"
   ]
  },
  {
   "cell_type": "code",
   "execution_count": 7,
   "metadata": {
    "collapsed": true
   },
   "outputs": [],
   "source": [
    "def prior_energy2(G,node,z,B):\n",
    "    # needs state z, \n",
    "    # counts number of non-matches.. non matches increase energy \n",
    "    neighbor_voxel_matches = 0\n",
    "    for edge in G.edge[node]:\n",
    "        if z!=G.node[edge]['state']:\n",
    "            neighbor_voxel_matches+=1.0\n",
    "    return(neighbor_voxel_matches* B)\n"
   ]
  },
  {
   "cell_type": "code",
   "execution_count": 8,
   "metadata": {
    "collapsed": true
   },
   "outputs": [],
   "source": [
    "def node_conditional2(G,node,B):\n",
    "    energy_per_state =  np.zeros(G.graph['num_states'])\n",
    "    for s,state in enumerate(range(G.graph['num_states'])):\n",
    "        energy_per_state[s] = np.exp(-1.0*prior_energy2(G,node,state,B))\n",
    "    return(energy_per_state/energy_per_state.sum())\n",
    "                                     "
   ]
  },
  {
   "cell_type": "code",
   "execution_count": 9,
   "metadata": {
    "collapsed": true
   },
   "outputs": [],
   "source": [
    "def Z(G,node,B):\n",
    "    energy_per_state =  np.zeros(G.graph['num_states'])\n",
    "    for s,state in enumerate(range(G.graph['num_states'])):\n",
    "        energy_per_state[s] = np.exp(-1.0*prior_energy2(G,node,state,B))\n",
    "    return(energy_per_state.sum())\n",
    "                                     "
   ]
  },
  {
   "cell_type": "code",
   "execution_count": 10,
   "metadata": {
    "collapsed": true
   },
   "outputs": [],
   "source": [
    "def min_for_B(BB):\n",
    "    total = 0\n",
    "    for sample in range(num_samples-1):\n",
    "        for n,node in enumerate(G.node):\n",
    "            state = posterior_samples[n,sample]\n",
    "            total+=np.log(node_conditional2(G,node,BB))[state]\n",
    "    total = total/num_samples\n",
    "    return(-1.0*total)"
   ]
  },
  {
   "cell_type": "code",
   "execution_count": 11,
   "metadata": {
    "collapsed": true
   },
   "outputs": [],
   "source": [
    "def min_for_B2(BB):\n",
    "    total = 0\n",
    "    for sample in range(num_samples-1):\n",
    "        for n,node in enumerate(G.node):\n",
    "            state = posterior_samples[n,sample]\n",
    "            total+=-1.0*prior_energy2(G,node,state,BB)-np.log(Z(G,node,BB))\n",
    "    total = total/num_samples\n",
    "    return(-1.0*total)"
   ]
  },
  {
   "cell_type": "markdown",
   "metadata": {},
   "source": [
    "### Functions: Simulations"
   ]
  },
  {
   "cell_type": "code",
   "execution_count": 12,
   "metadata": {
    "collapsed": true
   },
   "outputs": [],
   "source": [
    "def generate_mean_time_series(timepoints):\n",
    "    u =np.random.normal(size=timepoints)\n",
    "    return(u)\n",
    "\n",
    "def generate_x_from_mean(u,sigma,samples):\n",
    "    E = np.eye(len(u))*sigma\n",
    "    x = np.random.multivariate_normal(u,E,size=samples)\n",
    "    return(x)\n"
   ]
  },
  {
   "cell_type": "code",
   "execution_count": 13,
   "metadata": {
    "collapsed": true
   },
   "outputs": [],
   "source": [
    "\n",
    "def generate_mean_time_series_normalized(n,rho,e,how_to_norm=1):\n",
    "    u = np.zeros(n)\n",
    "    u[0]=np.random.normal(1)\n",
    "    for i in np.array(range(n-1))+1:\n",
    "        u[i] = u[i-1]*rho + np.random.normal(0,e)\n",
    "        \n",
    "    u = u-u.mean() # 0-mean\n",
    "    if how_to_norm==1:\n",
    "        u = u/np.linalg.norm(u,2) # unit-norm\n",
    "    elif how_to_norm==2:\n",
    "        u = u/u.std()\n",
    "    else:\n",
    "        u = u\n",
    "    return(u)\n"
   ]
  },
  {
   "cell_type": "code",
   "execution_count": 14,
   "metadata": {
    "collapsed": true
   },
   "outputs": [],
   "source": [
    "\n",
    "def generate_x_from_mean_single_normalized(u,t,SNR,how_to_norm=1):\n",
    "    x = np.zeros(t)\n",
    "    x = u+np.random.normal(0,SNR,t)\n",
    "    x = x-x.mean() # 0-mean\n",
    "    if how_to_norm==1:\n",
    "        x = x/np.linalg.norm(x,2) # unit-norm\n",
    "    elif how_to_norm==2:\n",
    "        x = x/x.std() # std\n",
    "    else:\n",
    "        x = x    \n",
    "    return(x)\n"
   ]
  },
  {
   "cell_type": "code",
   "execution_count": 15,
   "metadata": {
    "collapsed": false
   },
   "outputs": [],
   "source": [
    "### Generate Data ### \n",
    "def add_data_to_graph(G,tp=3,sigma=1,normalized=False):\n",
    "\n",
    "\n",
    "    X = np.zeros((tp,G.graph['nn']**2))\n",
    "    u = np.empty((tp,G.graph['num_states']))\n",
    "    \n",
    "    for ui in range(G.graph['num_states']):\n",
    "        u[:,ui] =generate_mean_time_series(tp)\n",
    "        #if normalized\n",
    "\n",
    "\n",
    "    states = np.array([])\n",
    "    for ni,n in enumerate(G.node):\n",
    "\n",
    "        x = generate_x_from_mean(u[:,G.node[n]['state']],sigma,1)\n",
    "        states = np.append(states,G.node[n]['state'])\n",
    "        X[:,ni] = x\n",
    "        G.node[n]['x'] = x\n",
    "\n",
    "\n",
    "    G.graph['u_true'] = u\n",
    "    G.graph['sigma_true'] = sigma\n",
    "    G.graph['X'] = X\n",
    "\n",
    "    # Generate Random Estimates\n",
    "    u_est = np.empty((tp,G.graph['num_states']))\n",
    "    for ui in range(G.graph['num_states']):\n",
    "        u_est[:,ui] =generate_mean_time_series(tp)\n",
    "    G.graph['u_est'] = u_est\n",
    "    \n",
    "    G.graph['tp'] = tp\n",
    "    G.graph['states'] = states\n",
    "    \n",
    "    return(G)\n"
   ]
  },
  {
   "cell_type": "code",
   "execution_count": 16,
   "metadata": {
    "collapsed": true
   },
   "outputs": [],
   "source": [
    "def assess_perf(G):\n",
    "\n",
    "    # for true states, find all matching nodes. \n",
    "    for node1 in G.nodes():\n",
    "        state1 = G.node[node1]['true_state']\n",
    "        G.node[node1]['matching_nodes_true'] = []\n",
    "        for node2 in G.nodes():\n",
    "            state2 = G.node[node2]['true_state']\n",
    "            if state1==state2:\n",
    "                G.node[node1]['matching_nodes_true'].append(node2)\n",
    "\n",
    "    for node1 in G.nodes():\n",
    "        state1 = G.node[node1]['state']\n",
    "        G.node[node1]['matching_nodes'] = []\n",
    "        for node2 in G.nodes():\n",
    "            state2 = G.node[node2]['state']\n",
    "            if state1==state2:\n",
    "                G.node[node1]['matching_nodes'].append(node2)            \n",
    "\n",
    "    # another graph \n",
    "    matches = np.empty(G.graph['nn']**2)\n",
    "    for ni,node1 in enumerate(G.nodes()):\n",
    "        matches[ni]=len(set(G.node[node1]['matching_nodes']).intersection(set(G.node[node1]['matching_nodes_true'])))\n",
    "\n",
    "\n",
    "    return(matches.sum())"
   ]
  },
  {
   "cell_type": "markdown",
   "metadata": {},
   "source": [
    "### Functions: Plotting"
   ]
  },
  {
   "cell_type": "code",
   "execution_count": 17,
   "metadata": {
    "collapsed": true
   },
   "outputs": [],
   "source": [
    "### Change Color \n",
    "def change_node_color(G,changeto):\n",
    "    \n",
    "    for node in G.node:\n",
    "        G.node[node]['state'] = changeto[G.node[node]['state']]\n",
    "    \n",
    "    return(G)\n",
    "\n",
    "\n"
   ]
  },
  {
   "cell_type": "code",
   "execution_count": 18,
   "metadata": {
    "collapsed": false
   },
   "outputs": [],
   "source": [
    "def plot_graph(G):\n",
    "    im = np.empty((G.graph['nn'],G.graph['nn']))\n",
    "    for node in G.node:\n",
    "        im[node]=G.node[node]['state']\n",
    "\n",
    "    imm = plt.imshow(im,interpolation='None',origin='lower')\n",
    "    return(imm)\n"
   ]
  },
  {
   "cell_type": "code",
   "execution_count": 19,
   "metadata": {
    "collapsed": true
   },
   "outputs": [],
   "source": [
    "def get_cmap(N):\n",
    "    '''Returns a function that maps each index in 0, 1, ... N-1 to a distinct \n",
    "    RGB color.'''\n",
    "    color_norm  = colors.Normalize(vmin=0, vmax=N-1)\n",
    "    scalar_map = cmx.ScalarMappable(norm=color_norm, cmap='hsv') \n",
    "    def map_index_to_rgb_color(index):\n",
    "        return scalar_map.to_rgba(index)\n",
    "    return map_index_to_rgb_color\n"
   ]
  },
  {
   "cell_type": "markdown",
   "metadata": {},
   "source": [
    "## Simulation"
   ]
  },
  {
   "cell_type": "markdown",
   "metadata": {},
   "source": [
    "### Generate 'True' Network labels by sampling from the potts model (prior) with Gibbs Sampling"
   ]
  },
  {
   "cell_type": "code",
   "execution_count": 49,
   "metadata": {
    "collapsed": false
   },
   "outputs": [
    {
     "name": "stdout",
     "output_type": "stream",
     "text": [
      "45294.0\n"
     ]
    },
    {
     "data": {
      "image/png": "[encoded data removed]",
      "text/plain": [
       "<matplotlib.figure.Figure at 0x106eb5a90>"
      ]
     },
     "metadata": {},
     "output_type": "display_data"
    }
   ],
   "source": [
    "### Initialize Graph \n",
    "nn=20\n",
    "num_nodes = nn*nn\n",
    "G=nx.grid_2d_graph(nn,nn)  #4x4 grid\n",
    "G.graph['B'] = 1.1\n",
    "G.graph['num_states'] = 4\n",
    "G.graph['nn']=nn\n",
    "sigma = 1\n",
    "# randomize initialize states \n",
    "for n in G.node:\n",
    "    state=np.random.randint(G.graph['num_states'])\n",
    "    G.node[n]['state']=state\n",
    "\n",
    "    \n",
    "G,posterior_samples = gibbs_sample(G,100)\n",
    "    \n",
    "G = add_data_to_graph(G,3,sigma)\n",
    "G.graph['X'].shape\n",
    "\n",
    "for n in G.node:\n",
    "    G.node[n]['true_state']=G.node[n]['state']\n",
    "plt.figure()\n",
    "plot_graph(G)\n",
    "print(assess_perf(G))\n"
   ]
  },
  {
   "cell_type": "markdown",
   "metadata": {},
   "source": [
    "### Randomize Network Labels (to give to algorithm)"
   ]
  },
  {
   "cell_type": "code",
   "execution_count": 50,
   "metadata": {
    "collapsed": false
   },
   "outputs": [
    {
     "name": "stdout",
     "output_type": "stream",
     "text": [
      "11490.0\n"
     ]
    },
    {
     "data": {
      "image/png": "[encoded data removed]",
      "text/plain": [
       "<matplotlib.figure.Figure at 0x106fbbe50>"
      ]
     },
     "metadata": {},
     "output_type": "display_data"
    }
   ],
   "source": [
    "# randomize starting position \n",
    "for n in G.node:\n",
    "    state=np.random.randint(G.graph['num_states'])\n",
    "    G.node[n]['state']=state\n",
    "plt.figure()\n",
    "plot_graph(G)\n",
    "\n",
    "print(assess_perf(G))"
   ]
  },
  {
   "cell_type": "markdown",
   "metadata": {},
   "source": [
    "### Visualize Unnormalized X data "
   ]
  },
  {
   "cell_type": "code",
   "execution_count": 51,
   "metadata": {
    "collapsed": false
   },
   "outputs": [
    {
     "data": {
      "text/plain": [
       "<matplotlib.text.Text at 0x106fb3c10>"
      ]
     },
     "execution_count": 51,
     "metadata": {},
     "output_type": "execute_result"
    },
    {
     "data": {
      "image/png": "[encoded data removed]",
      "text/plain": [
       "<matplotlib.figure.Figure at 0x106885310>"
      ]
     },
     "metadata": {},
     "output_type": "display_data"
    }
   ],
   "source": [
    "from mpl_toolkits.mplot3d import Axes3D\n",
    "fig = plt.figure(figsize=(8,5))\n",
    "ax = fig.add_subplot(111, projection='3d')\n",
    "cmap = get_cmap(G.graph['num_states']+2)\n",
    "\n",
    "for node in G.node:\n",
    "    x = G.node[node]['x']\n",
    "    state = G.node[node]['state']\n",
    "    ax.scatter(x[0,0], x[0,1], x[0,2], c=cmap(state))\n",
    "    \n",
    "ax.set_xlabel('time point 1')\n",
    "ax.set_ylabel('time point 2')\n",
    "ax.set_zlabel('time point 3')"
   ]
  },
  {
   "cell_type": "markdown",
   "metadata": {},
   "source": [
    "### Visualize normalized X data (not used in this simulation)"
   ]
  },
  {
   "cell_type": "code",
   "execution_count": 52,
   "metadata": {
    "collapsed": false
   },
   "outputs": [
    {
     "data": {
      "text/plain": [
       "<matplotlib.text.Text at 0x10747ba90>"
      ]
     },
     "execution_count": 52,
     "metadata": {},
     "output_type": "execute_result"
    },
    {
     "data": {
      "image/png": "[encoded data removed]",
      "text/plain": [
       "<matplotlib.figure.Figure at 0x10733be10>"
      ]
     },
     "metadata": {},
     "output_type": "display_data"
    }
   ],
   "source": [
    "#### Using Unit Normalization. \n",
    "\n",
    "t = 4\n",
    "n = 5000\n",
    "clusters = 4\n",
    "X = np.zeros((t,n))\n",
    "u = np.empty((t,n))\n",
    "l = np.empty((n))\n",
    "corr = 0.6\n",
    "e = 0.4\n",
    "SNR = .6\n",
    "for ui in range(clusters):\n",
    "    u[:,ui] =generate_mean_time_series_normalized(t,corr,e)\n",
    "\n",
    "    \n",
    "for xi in range(n): \n",
    "    clust = np.random.randint(clusters)\n",
    "    x = generate_x_from_mean_single_normalized(u[:,clust],t,SNR)\n",
    "    X[:,xi] = x\n",
    "    l[xi] = clust\n",
    "\n",
    "fig = plt.figure(figsize=(8,5))\n",
    "ax = fig.add_subplot(111, projection='3d')\n",
    "cols = ['b','y','r','k']\n",
    "for c in range(clusters):\n",
    "    ax.scatter(X[0,l==c],X[1,l==c], X[2,l==c],color=cols[c])\n",
    "\n",
    "ax.set_xlabel('time point 1')\n",
    "ax.set_ylabel('time point 2')\n",
    "ax.set_zlabel('time point 3')"
   ]
  },
  {
   "cell_type": "markdown",
   "metadata": {},
   "source": [
    "### Cluster Data using K-means "
   ]
  },
  {
   "cell_type": "code",
   "execution_count": null,
   "metadata": {
    "collapsed": true
   },
   "outputs": [],
   "source": []
  },
  {
   "cell_type": "code",
   "execution_count": 53,
   "metadata": {
    "collapsed": false
   },
   "outputs": [
    {
     "name": "stdout",
     "output_type": "stream",
     "text": [
      "29010.0\n"
     ]
    },
    {
     "data": {
      "image/png": "[encoded data removed]",
      "text/plain": [
       "<matplotlib.figure.Figure at 0x106d91490>"
      ]
     },
     "metadata": {},
     "output_type": "display_data"
    }
   ],
   "source": [
    "from sklearn.cluster import KMeans \n",
    "kmeans = KMeans(G.graph['num_states'])\n",
    "results = kmeans.fit(G.graph['X'].T)\n",
    "labels = results.fit_predict(G.graph['X'].T)\n",
    "\n",
    "# set states\n",
    "for ni,n in enumerate(G.node):\n",
    "    G.node[n]['state']=labels[ni]\n",
    "\n",
    "# set centroids \n",
    "G.graph['u_est'] = results.cluster_centers_.T\n",
    "plot_graph(G)\n",
    "print(assess_perf(G))"
   ]
  },
  {
   "cell_type": "code",
   "execution_count": 54,
   "metadata": {
    "collapsed": false
   },
   "outputs": [
    {
     "data": {
      "text/plain": [
       "<matplotlib.image.AxesImage at 0x106d81690>"
      ]
     },
     "execution_count": 54,
     "metadata": {},
     "output_type": "execute_result"
    },
    {
     "data": {
      "image/png": "[encoded data removed]",
      "text/plain": [
       "<matplotlib.figure.Figure at 0x107345610>"
      ]
     },
     "metadata": {},
     "output_type": "display_data"
    }
   ],
   "source": [
    "G,posterior_samples = gibbs_sample(G,100,prior_or_posterior='posterior')\n",
    "plot_graph(G)"
   ]
  },
  {
   "cell_type": "code",
   "execution_count": 55,
   "metadata": {
    "collapsed": false
   },
   "outputs": [
    {
     "name": "stdout",
     "output_type": "stream",
     "text": [
      "33742.0\n"
     ]
    }
   ],
   "source": [
    "print(assess_perf(G))"
   ]
  },
  {
   "cell_type": "markdown",
   "metadata": {},
   "source": [
    "### Cluster Data using Current Model (Monte-Carlo EM)"
   ]
  },
  {
   "cell_type": "code",
   "execution_count": 56,
   "metadata": {
    "collapsed": false
   },
   "outputs": [
    {
     "name": "stdout",
     "output_type": "stream",
     "text": [
      "0\n",
      "1\n",
      "2\n",
      "3\n",
      "4\n",
      "5\n",
      "6\n",
      "7\n",
      "8\n",
      "9\n"
     ]
    },
    {
     "data": {
      "image/png": "[encoded data removed]",
      "text/plain": [
       "<matplotlib.figure.Figure at 0x1069f9f50>"
      ]
     },
     "metadata": {},
     "output_type": "display_data"
    }
   ],
   "source": [
    "### EM \n",
    "\n",
    "#perf = \n",
    "### Movie of Sampling from posterior\n",
    "FFMpegWriter = animation.writers['ffmpeg']\n",
    "metadata = dict(title='Movie Test', artist='Matplotlib',\n",
    "                comment='Movie support!')\n",
    "writer = FFMpegWriter(fps=10, metadata=metadata)\n",
    "\n",
    "\n",
    "fig = plt.figure()\n",
    "ax = fig.add_subplot(111)\n",
    "ax.set_aspect('equal')\n",
    "ax.get_xaxis().set_visible(False)\n",
    "ax.get_yaxis().set_visible(False)\n",
    "im = np.empty((G.graph['nn'],G.graph['nn']))\n",
    "for node in G.node:\n",
    "    im[node]=G.node[node]['state']\n",
    "\n",
    "imm = plt.imshow(im,interpolation='None',origin='lower')\n",
    "\n",
    "G.graph['Bstore'] = np.array([])\n",
    "\n",
    "#with writer.saving(fig, \"em_sampling.mp4\", 100):\n",
    "#    writer.grab_frame()\n",
    "\n",
    "for em_step in range(10):\n",
    "        ### E step - \n",
    "        ### Get posterior P(Z|Z_n,X)\n",
    "    print(em_step)\n",
    "    num_samples=50\n",
    "    G,posterior_samples = gibbs_sample(G,100,prior_or_posterior='posterior')\n",
    "    posterior_samples = posterior_samples[:,-1*num_samples:-1]\n",
    "        \n",
    "        ### show samples from posterior \n",
    "        #for i in range(10):\n",
    "\n",
    "        #    G,posterior_samples2 = gibbs_sample(G,1,prior_or_posterior='posterior')\n",
    "        #    temp = np.empty((G.graph['nn'],G.graph['nn']))\n",
    "        #    for node in G.node:\n",
    "        #        temp[node]=G.node[node]['state']\n",
    "        #    imm.set_data(temp)\n",
    "        #    writer.grab_frame()\n",
    "\n",
    "\n",
    "\n",
    "        #### M step\n",
    "        \n",
    "        ### Estimate U\n",
    "    u_est_new =G.graph['u_est']\n",
    "    u_est_new_count = G.graph['u_est']*0.0+1.0\n",
    "\n",
    "    for sample in range(num_samples-1):\n",
    "        for n,node in enumerate(G.node):\n",
    "            state = posterior_samples[n,sample] # node was in this state\n",
    "            u_est_new[:,int(state)] += G.node[node]['x'][0,:] # add the x data to that time vector\n",
    "            u_est_new_count[:,int(state)] += np.ones(G.graph['tp'])\n",
    "    u_est_new = u_est_new/u_est_new_count\n",
    "    G.graph['u_est'] = u_est_new\n",
    "        \n",
    "        ### Estimate Sigma (pooled across clusters)\n",
    "        \n",
    "        ### Estimate B\n",
    "    val = np.array([])\n",
    "    brange = np.arange(0.1,1.8,.1)\n",
    "    for b in brange:\n",
    "        val = np.append(val,min_for_B2(b))\n",
    "        newb = brange[np.argmin(val)]\n",
    "    G.graph['B'] = newb\n",
    "    G.graph['Bstore'] = np.append(G.graph['Bstore'],newb)\n",
    "    G.graph['u_est'] = u_est_new\n"
   ]
  },
  {
   "cell_type": "code",
   "execution_count": 57,
   "metadata": {
    "collapsed": false
   },
   "outputs": [
    {
     "data": {
      "text/plain": [
       "<matplotlib.image.AxesImage at 0x106f11050>"
      ]
     },
     "execution_count": 57,
     "metadata": {},
     "output_type": "execute_result"
    },
    {
     "data": {
      "image/png": "[encoded data removed]",
      "text/plain": [
       "<matplotlib.figure.Figure at 0x10689d750>"
      ]
     },
     "metadata": {},
     "output_type": "display_data"
    }
   ],
   "source": [
    "plot_graph(G)"
   ]
  },
  {
   "cell_type": "code",
   "execution_count": 58,
   "metadata": {
    "collapsed": false
   },
   "outputs": [
    {
     "data": {
      "text/plain": [
       "array([ 1.1,  1.1,  1. ,  1.1,  1. ,  1. ,  1. ,  1.1,  1. ,  1. ])"
      ]
     },
     "execution_count": 58,
     "metadata": {},
     "output_type": "execute_result"
    }
   ],
   "source": [
    "G.graph['Bstore']"
   ]
  },
  {
   "cell_type": "markdown",
   "metadata": {},
   "source": [
    "### Perform Iterated Conditional Modes"
   ]
  },
  {
   "cell_type": "code",
   "execution_count": 59,
   "metadata": {
    "collapsed": false
   },
   "outputs": [
    {
     "name": "stdout",
     "output_type": "stream",
     "text": [
      "36184.0\n"
     ]
    },
    {
     "data": {
      "image/png": "[encoded data removed]",
      "text/plain": [
       "<matplotlib.figure.Figure at 0x105c6f7d0>"
      ]
     },
     "metadata": {},
     "output_type": "display_data"
    }
   ],
   "source": [
    "ICM(G,num_gibbs_samples=40,prior_or_posterior='posterior')\n",
    "plot_graph(G)\n",
    "print(assess_perf(G))"
   ]
  },
  {
   "cell_type": "markdown",
   "metadata": {},
   "source": [
    "### Save a movie of sampling from the posteior "
   ]
  },
  {
   "cell_type": "code",
   "execution_count": null,
   "metadata": {
    "collapsed": false
   },
   "outputs": [],
   "source": [
    "### Movie of Sampling from posterior\n",
    "FFMpegWriter = animation.writers['ffmpeg']\n",
    "metadata = dict(title='Movie Test', artist='Matplotlib',\n",
    "                comment='Movie support!')\n",
    "writer = FFMpegWriter(fps=10, metadata=metadata)\n",
    "\n",
    "\n",
    "fig = plt.figure()\n",
    "ax = fig.add_subplot(111)\n",
    "ax.set_aspect('equal')\n",
    "ax.get_xaxis().set_visible(False)\n",
    "ax.get_yaxis().set_visible(False)\n",
    "im = np.empty((G.graph['nn'],G.graph['nn']))\n",
    "for node in G.node:\n",
    "    im[node]=G.node[node]['state']\n",
    "\n",
    "imm = plt.imshow(im,interpolation='None',origin='lower')\n",
    "#im.set_clim([0,1])\n",
    "\n",
    "\n",
    "with writer.saving(fig, \"posterior_sampling.mp4\", 100):\n",
    "    for i in range(100):\n",
    "        writer.grab_frame()\n",
    "        G,posterior_samples = gibbs_sample(G,1,prior_or_posterior='posterior')\n",
    "        temp = np.empty((G.graph['nn'],G.graph['nn']))\n",
    "        for node in G.node:\n",
    "            temp[node]=G.node[node]['state']\n",
    "        imm.set_data(temp)"
   ]
  },
  {
   "cell_type": "markdown",
   "metadata": {},
   "source": [
    "### Recovery of Hidden States is good. "
   ]
  },
  {
   "cell_type": "markdown",
   "metadata": {},
   "source": [
    "## Additional Stuff"
   ]
  },
  {
   "cell_type": "markdown",
   "metadata": {},
   "source": [
    "### Movie of Sampling from Potts Model"
   ]
  },
  {
   "cell_type": "code",
   "execution_count": null,
   "metadata": {
    "collapsed": false
   },
   "outputs": [],
   "source": [
    "### Movie of Sampling from Prior different B'\n",
    "### Initialize Graph \n",
    "nn=20\n",
    "for BB in [0.2,0.5,1,1.2,1.5,1.7]:\n",
    "    num_nodes = nn*nn\n",
    "    G=nx.grid_2d_graph(nn,nn)  #4x4 grid\n",
    "    G.graph['B'] = BB\n",
    "    G.graph['num_states'] = 4\n",
    "    G.graph['nn']=nn\n",
    "    # randomize initialize states \n",
    "    for n in G.node:\n",
    "        state=np.random.randint(G.graph['num_states'])\n",
    "        G.node[n]['state']=state\n",
    "\n",
    "\n",
    "\n",
    "    FFMpegWriter = animation.writers['ffmpeg']\n",
    "    metadata = dict(title='Movie Test', artist='Matplotlib',\n",
    "                    comment='Movie support!')\n",
    "    writer = FFMpegWriter(fps=10, metadata=metadata)\n",
    "\n",
    "\n",
    "    fig = plt.figure()\n",
    "    ax = fig.add_subplot(111)\n",
    "    ax.set_aspect('equal')\n",
    "    ax.get_xaxis().set_visible(False)\n",
    "    ax.get_yaxis().set_visible(False)\n",
    "    im = np.empty((G.graph['nn'],G.graph['nn']))\n",
    "    for node in G.node:\n",
    "        im[node]=G.node[node]['state']\n",
    "\n",
    "    imm = plt.imshow(im,interpolation='None',origin='lower')\n",
    "    #im.set_clim([0,1])\n",
    "\n",
    "\n",
    "    with writer.saving(fig, \"sample_prior\"+str(BB)+\".mp4\", 100):\n",
    "        for i in range(100):\n",
    "            G,posterior_samples = gibbs_sample(G,1)\n",
    "            temp = np.empty((G.graph['nn'],G.graph['nn']))\n",
    "            for node in G.node:\n",
    "                temp[node]=G.node[node]['state']\n",
    "            imm.set_data(temp)\n",
    "            writer.grab_frame()"
   ]
  },
  {
   "cell_type": "markdown",
   "metadata": {},
   "source": [
    "## Fixed my Estimation of B !"
   ]
  },
  {
   "cell_type": "code",
   "execution_count": null,
   "metadata": {
    "collapsed": false
   },
   "outputs": [],
   "source": [
    "### Initialize Graph \n",
    "\n",
    "for BB in [0.2,0.5,1,1.2,1.5,1.7]:\n",
    "    nn=15\n",
    "    num_nodes = nn*nn\n",
    "    G=nx.grid_2d_graph(nn,nn)  #4x4 grid\n",
    "    G.graph['B'] = BB\n",
    "    G.graph['num_states'] = 4\n",
    "    G.graph['nn']=nn\n",
    "    sigma = 1\n",
    "    # randomize initialize states \n",
    "    for n in G.node:\n",
    "        state=np.random.randint(G.graph['num_states'])\n",
    "        G.node[n]['state']=state\n",
    "\n",
    "    num_samples=50\n",
    "    G,posterior_samples = gibbs_sample(G,100)\n",
    "    posterior_samples = posterior_samples[:,-1*num_samples:-1]\n",
    "\n",
    "\n",
    "    plt.figure()\n",
    "    plot_graph(G)\n",
    "    plt.figure()\n",
    "    BBs = np.arange(0,2,.1)\n",
    "    for b,bb in enumerate(BBs):\n",
    "        plt.scatter(bb,min_for_B(bb))\n",
    "    plt.axvline(x=BB)"
   ]
  },
  {
   "cell_type": "code",
   "execution_count": null,
   "metadata": {
    "collapsed": false
   },
   "outputs": [],
   "source": [
    "    nn=20\n",
    "    num_nodes = nn*nn\n",
    "    G=nx.grid_2d_graph(nn,nn)  #4x4 grid\n",
    "    G.graph['B'] = 1\n",
    "    G.graph['num_states'] = 4\n",
    "    G.graph['nn']=nn\n",
    "    sigma = 1\n",
    "    # randomize initialize states \n",
    "    for n in G.node:\n",
    "        state=np.random.randint(G.graph['num_states'])\n",
    "        G.node[n]['state']=state\n",
    "\n",
    "    num_samples=100\n",
    "    G,posterior_samples = gibbs_sample(G,100)\n",
    "    posterior_samples = posterior_samples[:,-1*num_samples:-1]\n",
    "\n",
    "    BBs = np.arange(0,3,.01)\n",
    "    for b,bb in enumerate(BBs):\n",
    "        plt.scatter(bb,min_for_B2(bb))"
   ]
  },
  {
   "cell_type": "code",
   "execution_count": null,
   "metadata": {
    "collapsed": false
   },
   "outputs": [],
   "source": [
    "len(G.node)"
   ]
  },
  {
   "cell_type": "code",
   "execution_count": null,
   "metadata": {
    "collapsed": false
   },
   "outputs": [],
   "source": [
    "from scipy.optimize import minimize\n",
    "x0=1\n",
    "#res = minimize(min_for_B, x0, method='nelder-mead', options={'xtol': 1e-8, 'disp': True})"
   ]
  },
  {
   "cell_type": "code",
   "execution_count": null,
   "metadata": {
    "collapsed": false
   },
   "outputs": [],
   "source": [
    "res.values()"
   ]
  },
  {
   "cell_type": "code",
   "execution_count": null,
   "metadata": {
    "collapsed": false
   },
   "outputs": [],
   "source": [
    "val = np.array([])\n",
    "brange = np.arange(0.1,1.8,.1)\n",
    "for b in brange:\n",
    "    val = np.append(val,min_for_B2(b))\n",
    "newb = brange[np.argmin(val)]\n",
    "print(newb)"
   ]
  }
 ],
 "metadata": {
  "kernelspec": {
   "display_name": "Python 2",
   "language": "python",
   "name": "python2"
  },
  "language_info": {
   "codemirror_mode": {
    "name": "ipython",
    "version": 2
   },
   "file_extension": ".py",
   "mimetype": "text/x-python",
   "name": "python",
   "nbconvert_exporter": "python",
   "pygments_lexer": "ipython2",
   "version": "2.7.5"
  }
 },
 "nbformat": 4,
 "nbformat_minor": 0
}
